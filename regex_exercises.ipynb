{
 "cells": [
  {
   "cell_type": "code",
   "execution_count": 2,
   "id": "90590e8d-861d-4d2b-b433-b1beae59be1b",
   "metadata": {},
   "outputs": [],
   "source": [
    "import pandas as pd\n",
    "import numpy as np\n",
    "\n",
    "import re"
   ]
  },
  {
   "cell_type": "markdown",
   "id": "52e1f2cd-d866-4f7c-9506-0db43d4fe0c2",
   "metadata": {},
   "source": [
    "### Write a function named is_vowel. It should accept a string as input and use a regular expression to determine if the passed string is a vowel. While not explicity mentioned in the lesson, you can treat the result of re.search as a boolean value that indicates whether or not the regular expression matches the given string."
   ]
  },
  {
   "cell_type": "code",
   "execution_count": 3,
   "id": "f3ea0a4d-b1c6-4450-8501-f106fb3855b5",
   "metadata": {},
   "outputs": [],
   "source": [
    "def is_vowel(string):\n",
    "    pattern = r'^[aeiouAEIOU]$'\n",
    "    return bool(re.search(pattern, string))"
   ]
  },
  {
   "cell_type": "code",
   "execution_count": 4,
   "id": "4d291129-bb8b-4c52-b544-0f06b6b82cae",
   "metadata": {},
   "outputs": [
    {
     "data": {
      "text/plain": [
       "False"
      ]
     },
     "execution_count": 4,
     "metadata": {},
     "output_type": "execute_result"
    }
   ],
   "source": [
    "is_vowel('h')"
   ]
  },
  {
   "cell_type": "code",
   "execution_count": 5,
   "id": "31b6658e-3483-4452-a98c-6fa3cc89d2d7",
   "metadata": {},
   "outputs": [
    {
     "data": {
      "text/plain": [
       "True"
      ]
     },
     "execution_count": 5,
     "metadata": {},
     "output_type": "execute_result"
    }
   ],
   "source": [
    "is_vowel('a')"
   ]
  },
  {
   "cell_type": "markdown",
   "id": "0d34f522-0af1-4714-af25-d25e9d9a43d2",
   "metadata": {},
   "source": [
    "### Write a function named is_valid_username that accepts a string as input. A valid username starts with a lowercase letter, and only consists of lowercase letters, numbers, or the _ character. It should also be no longer than 32 characters. The function should return either True or False depending on whether the passed string is a valid username."
   ]
  },
  {
   "cell_type": "code",
   "execution_count": 6,
   "id": "148a3149-4e4d-4535-a7a9-ceb085c90063",
   "metadata": {},
   "outputs": [],
   "source": [
    "def is_valid_username(username):\n",
    "    pattern = r'^[a-z][a-z0-9_]{0,31}$'\n",
    "    return bool(re.match(pattern, username))"
   ]
  },
  {
   "cell_type": "code",
   "execution_count": 20,
   "id": "d0911d60-1c77-42d9-b7be-4b866a7550c1",
   "metadata": {},
   "outputs": [
    {
     "data": {
      "text/plain": [
       "False"
      ]
     },
     "execution_count": 20,
     "metadata": {},
     "output_type": "execute_result"
    }
   ],
   "source": [
    "is_valid_username('aaaaaaaaaaaaaaaaaaaaaaaaaaaaaaaaaaaaaaaaaaa')"
   ]
  },
  {
   "cell_type": "code",
   "execution_count": 8,
   "id": "aa32396d-6bb9-4bad-950f-1fe876c22200",
   "metadata": {},
   "outputs": [
    {
     "data": {
      "text/plain": [
       "True"
      ]
     },
     "execution_count": 8,
     "metadata": {},
     "output_type": "execute_result"
    }
   ],
   "source": [
    "is_valid_username('codeup')"
   ]
  },
  {
   "cell_type": "code",
   "execution_count": 9,
   "id": "baa7db90",
   "metadata": {},
   "outputs": [
    {
     "data": {
      "text/plain": [
       "False"
      ]
     },
     "execution_count": 9,
     "metadata": {},
     "output_type": "execute_result"
    }
   ],
   "source": [
    "is_valid_username('Codeup')"
   ]
  },
  {
   "cell_type": "code",
   "execution_count": 10,
   "id": "4a7acef8",
   "metadata": {},
   "outputs": [
    {
     "data": {
      "text/plain": [
       "True"
      ]
     },
     "execution_count": 10,
     "metadata": {},
     "output_type": "execute_result"
    }
   ],
   "source": [
    "is_valid_username('codeup123')"
   ]
  },
  {
   "cell_type": "code",
   "execution_count": 11,
   "id": "2613af65",
   "metadata": {},
   "outputs": [
    {
     "data": {
      "text/plain": [
       "False"
      ]
     },
     "execution_count": 11,
     "metadata": {},
     "output_type": "execute_result"
    }
   ],
   "source": [
    "is_valid_username('1codeup')"
   ]
  },
  {
   "cell_type": "markdown",
   "id": "e6ae9183-83a4-42db-95e5-49078065879a",
   "metadata": {},
   "source": [
    "### Write a regular expression to capture phone numbers. It should match all of the following:\n",
    "* (210) 867 5309\n",
    "* +1 210.867.5309\n",
    "* 867-5309\n",
    "* 210-867-5309"
   ]
  },
  {
   "cell_type": "code",
   "execution_count": 12,
   "id": "d27ee12d-a630-4366-be69-84871cda2637",
   "metadata": {},
   "outputs": [],
   "source": [
    "subject = '(210) 867 5309, +1 210.867.5309, 867-5309, 210-867-5309'"
   ]
  },
  {
   "cell_type": "code",
   "execution_count": 13,
   "id": "71253628-d81d-4d8e-8542-4ef0bc5eec03",
   "metadata": {},
   "outputs": [
    {
     "data": {
      "text/plain": [
       "['(210) 867 5309', '+1 210.867.5309', '867-5309', '210-867-5309']"
      ]
     },
     "execution_count": 13,
     "metadata": {},
     "output_type": "execute_result"
    }
   ],
   "source": [
    "re.findall(r'(?:\\+?\\d{1,2}\\s)?(?:\\(\\d{3}\\)|\\d{3})[\\s.-]?\\d{3}[\\s.-]?\\d{4}|(?:\\+?\\d{1,2}\\s)?(?:\\(\\d{3}\\)|\\d{3})-\\d{4}', subject)"
   ]
  },
  {
   "cell_type": "markdown",
   "id": "d93de115-843a-4c64-a93c-c89120f1672b",
   "metadata": {},
   "source": [
    "^(?:\\+?\\d{1,2}\\s)?(?:\\(\\d{3}\\)|\\d{3})[\\s.-]?\\d{3}[\\s.-]?\\d{4}$"
   ]
  },
  {
   "cell_type": "markdown",
   "id": "6bfb0b99-bec8-4d25-aee8-12dc30e5fa7e",
   "metadata": {},
   "source": [
    "### Use regular expressions to convert the dates below to the standardized year-month-day format.\n",
    "* 02/04/19\n",
    "* 02/05/19\n",
    "* 02/06/19\n",
    "* 02/07/19\n",
    "* 02/08/19\n",
    "* 02/09/19\n",
    "* 02/10/19"
   ]
  },
  {
   "cell_type": "code",
   "execution_count": 15,
   "id": "7677cb36-6d4c-4b2c-a380-8f55e076ac6b",
   "metadata": {},
   "outputs": [],
   "source": [
    "dates = '02/04/19', '02/05/19', '02/06/19', '02/07/19', '02/08/19', '02/09/19', '02/10/19'"
   ]
  },
  {
   "cell_type": "code",
   "execution_count": 16,
   "id": "8a2cdd18-1952-459d-98bd-48d2e19a34bc",
   "metadata": {},
   "outputs": [
    {
     "name": "stdout",
     "output_type": "stream",
     "text": [
      "2019-02-04\n",
      "2019-02-05\n",
      "2019-02-06\n",
      "2019-02-07\n",
      "2019-02-08\n",
      "2019-02-09\n",
      "2019-02-10\n"
     ]
    }
   ],
   "source": [
    "for date in dates:\n",
    "    standardized_date = re.sub(r'(\\d{2})/(\\d{2})/(\\d{2})', r'20\\3-\\1-\\2', date)\n",
    "    print(standardized_date)"
   ]
  },
  {
   "cell_type": "code",
   "execution_count": 17,
   "id": "7ba55b2e-63a5-40e6-9982-d53d56f76286",
   "metadata": {},
   "outputs": [],
   "source": [
    "subject = '02/04/19, 02/05/19, 02/06/19, 02/07/19, 02/08/19, 02/09/19, 02/10/19'"
   ]
  },
  {
   "cell_type": "code",
   "execution_count": 18,
   "id": "c958b25c-9355-4acf-a14b-42f12eec2fdd",
   "metadata": {},
   "outputs": [
    {
     "data": {
      "text/plain": [
       "'2019-02-04, 2019-02-05, 2019-02-06, 2019-02-07, 2019-02-08, 2019-02-09, 2019-02-10'"
      ]
     },
     "execution_count": 18,
     "metadata": {},
     "output_type": "execute_result"
    }
   ],
   "source": [
    "re.sub(r'(\\d{2})/(\\d{2})/(\\d{2})', r'20\\3-\\1-\\2', subject)"
   ]
  },
  {
   "cell_type": "markdown",
   "id": "267107b7-2aea-43d6-8af7-0209fba45dbe",
   "metadata": {},
   "source": [
    "### Write a regex to extract the various parts of these logfile lines:\n",
    "* GET /api/v1/sales?page=86 [16/Apr/2019:193452+0000] HTTP/1.1 {200} 510348 \"python-requests/2.21.0\" 97.105.19.58\n",
    "* POST /users_accounts/file-upload [16/Apr/2019:193452+0000] HTTP/1.1 {201} 42 \"User-Agent: Mozilla/5.0 (X11; \n",
    "* Fedora; Fedora; Linux x86_64) AppleWebKit/537.36 (KHTML, like Gecko) Chrome/73.0.3683.86 Safari/537.36\" 97.105.19.58\n",
    "* GET /api/v1/items?page=3 [16/Apr/2019:193453+0000] HTTP/1.1 {429} 3561 \"python-requests/2.21.0\" 97.105.19.58\n"
   ]
  },
  {
   "cell_type": "code",
   "execution_count": 19,
   "id": "7a028b3f-ab74-4ae3-8cf9-fb24b773dd85",
   "metadata": {},
   "outputs": [
    {
     "name": "stdout",
     "output_type": "stream",
     "text": [
      "Method: GET\n",
      "Path: /api/v1/sales?page=86\n",
      "Timestamp: 16/Apr/2019:193452+0000\n",
      "HTTP version: 1.1\n",
      "Status: 200\n",
      "Bytes: 510348\n",
      "User agent: python-requests/2.21.0\n",
      "IP address: 97.105.19.58\n",
      "\n",
      "Method: POST\n",
      "Path: /users_accounts/file-upload\n",
      "Timestamp: 16/Apr/2019:193452+0000\n",
      "HTTP version: 1.1\n",
      "Status: 201\n",
      "Bytes: 42\n",
      "User agent: User-Agent: Mozilla/5.0 (X11; Fedora; Fedora; Linux x86_64) AppleWebKit/537.36 (KHTML, like Gecko) Chrome/73.0.3683.86 Safari/537.36\n",
      "IP address: 97.105.19.58\n",
      "\n",
      "Method: GET\n",
      "Path: /api/v1/items?page=3\n",
      "Timestamp: 16/Apr/2019:193453+0000\n",
      "HTTP version: 1.1\n",
      "Status: 429\n",
      "Bytes: 3561\n",
      "User agent: python-requests/2.21.0\n",
      "IP address: 97.105.19.58\n",
      "\n"
     ]
    }
   ],
   "source": [
    "log_lines = [\n",
    "    'GET /api/v1/sales?page=86 [16/Apr/2019:193452+0000] HTTP/1.1 {200} 510348 \"python-requests/2.21.0\" 97.105.19.58',\n",
    "    'POST /users_accounts/file-upload [16/Apr/2019:193452+0000] HTTP/1.1 {201} 42 \"User-Agent: Mozilla/5.0 (X11; Fedora; Fedora; Linux x86_64) AppleWebKit/537.36 (KHTML, like Gecko) Chrome/73.0.3683.86 Safari/537.36\" 97.105.19.58',\n",
    "    'GET /api/v1/items?page=3 [16/Apr/2019:193453+0000] HTTP/1.1 {429} 3561 \"python-requests/2.21.0\" 97.105.19.58'\n",
    "]\n",
    "\n",
    "regex_pattern = r'^(?P<method>\\w+)\\s+(?P<path>[^\\s]+)\\s+\\[(?P<timestamp>[^\\]]+)\\]\\s+HTTP/(?P<http_version>\\d\\.\\d)\\s+\\{(?P<status>\\d+)\\}\\s+(?P<bytes>\\d+)\\s+\"(?P<user_agent>[^\"]+)\"\\s+(?P<ip_address>[^\\s]+)$'\n",
    "regex = re.compile(regex_pattern)\n",
    "\n",
    "for line in log_lines:\n",
    "    match = regex.match(line)\n",
    "    if match:\n",
    "        print(f'Method: {match.group(\"method\")}\\nPath: {match.group(\"path\")}\\nTimestamp: {match.group(\"timestamp\")}\\nHTTP version: {match.group(\"http_version\")}\\nStatus: {match.group(\"status\")}\\nBytes: {match.group(\"bytes\")}\\nUser agent: {match.group(\"user_agent\")}\\nIP address: {match.group(\"ip_address\")}\\n')\n",
    "    else:\n",
    "        print(f'Invalid log line: {line}\\n')"
   ]
  },
  {
   "cell_type": "code",
   "execution_count": null,
   "id": "43a20dde-806f-4396-ab91-0944189ed169",
   "metadata": {},
   "outputs": [],
   "source": []
  }
 ],
 "metadata": {
  "kernelspec": {
   "display_name": "Python 3 (ipykernel)",
   "language": "python",
   "name": "python3"
  },
  "language_info": {
   "codemirror_mode": {
    "name": "ipython",
    "version": 3
   },
   "file_extension": ".py",
   "mimetype": "text/x-python",
   "name": "python",
   "nbconvert_exporter": "python",
   "pygments_lexer": "ipython3",
   "version": "3.9.13"
  }
 },
 "nbformat": 4,
 "nbformat_minor": 5
}
