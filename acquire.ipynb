{
 "cells": [
  {
   "cell_type": "code",
   "execution_count": 1,
   "id": "9144fb2f-1aa7-4c03-8688-5a629a8353fd",
   "metadata": {},
   "outputs": [],
   "source": [
    "import requests\n",
    "from requests import get\n",
    "from bs4 import BeautifulSoup\n",
    "import pandas as pd\n",
    "\n",
    "import re\n",
    "import os\n",
    "import json\n",
    "from pprint import pprint "
   ]
  },
  {
   "cell_type": "markdown",
   "id": "e47306f6-ce5b-4df6-9c2a-725e6fe25825",
   "metadata": {},
   "source": [
    "### 1. Codeup Blog Articles\n",
    "\n",
    "Visit Codeup's Blog and record the urls for at least 5 distinct blog posts. For each post, you should scrape at least the post's title and content.\n",
    "\n",
    "Encapsulate your work in a function named get_blog_articles that will return a list of dictionaries, with each dictionary representing one article. The shape of each dictionary should look like this:"
   ]
  },
  {
   "cell_type": "code",
   "execution_count": 2,
   "id": "ddfb6346-cfdb-4dfc-88e5-b58e1bdedd60",
   "metadata": {},
   "outputs": [],
   "source": [
    "#Define headers\n",
    "headers = {'User-Agent': 'Codeup Data Science'}"
   ]
  },
  {
   "cell_type": "code",
   "execution_count": 3,
   "id": "938e34c1-08f5-455f-a104-73657cf9aee3",
   "metadata": {},
   "outputs": [
    {
     "data": {
      "text/plain": [
       "[<a class=\"more-link\" href=\"https://codeup.com/featured/apida-heritage-month/\">read more</a>,\n",
       " <a class=\"more-link\" href=\"https://codeup.com/featured/women-in-tech-panelist-spotlight/\">read more</a>,\n",
       " <a class=\"more-link\" href=\"https://codeup.com/featured/women-in-tech-rachel-robbins-mayhill/\">read more</a>,\n",
       " <a class=\"more-link\" href=\"https://codeup.com/codeup-news/women-in-tech-panelist-spotlight-sarah-mellor/\">read more</a>,\n",
       " <a class=\"more-link\" href=\"https://codeup.com/events/women-in-tech-madeleine/\">read more</a>,\n",
       " <a class=\"more-link\" href=\"https://codeup.com/codeup-news/panelist-spotlight-4/\">read more</a>]"
      ]
     },
     "execution_count": 3,
     "metadata": {},
     "output_type": "execute_result"
    }
   ],
   "source": [
    "#scrape blog homepage for links\n",
    "\n",
    "url = \"https://codeup.com/blog/\"\n",
    "\n",
    "response = get(url, headers = headers)\n",
    "\n",
    "soup = BeautifulSoup(response.content, 'html.parser')\n",
    "\n",
    "more_links = soup.find_all('a', class_=\"more-link\")\n",
    "\n",
    "more_links"
   ]
  },
  {
   "cell_type": "code",
   "execution_count": 4,
   "id": "0c03587c-a55a-42c4-916e-3421c6899e07",
   "metadata": {},
   "outputs": [
    {
     "data": {
      "text/plain": [
       "['https://codeup.com/featured/apida-heritage-month/',\n",
       " 'https://codeup.com/featured/women-in-tech-panelist-spotlight/',\n",
       " 'https://codeup.com/featured/women-in-tech-rachel-robbins-mayhill/',\n",
       " 'https://codeup.com/codeup-news/women-in-tech-panelist-spotlight-sarah-mellor/',\n",
       " 'https://codeup.com/events/women-in-tech-madeleine/',\n",
       " 'https://codeup.com/codeup-news/panelist-spotlight-4/']"
      ]
     },
     "execution_count": 4,
     "metadata": {},
     "output_type": "execute_result"
    }
   ],
   "source": [
    "#extract the links into a list\n",
    "\n",
    "links_list = [link['href'] for link in more_links]\n",
    "links_list"
   ]
  },
  {
   "cell_type": "code",
   "execution_count": 5,
   "id": "51d84131-8bd6-43e2-8a6f-2bdaf600404b",
   "metadata": {},
   "outputs": [],
   "source": [
    "#make a request\n",
    "\n",
    "response = get(links_list[3], headers = headers)\n",
    "#response.text"
   ]
  },
  {
   "cell_type": "code",
   "execution_count": 6,
   "id": "fd23d828-d6bc-4629-b2e8-e174d5548746",
   "metadata": {},
   "outputs": [
    {
     "data": {
      "text/plain": [
       "'Women in Tech: Panelist Spotlight – Sarah Mellor'"
      ]
     },
     "execution_count": 6,
     "metadata": {},
     "output_type": "execute_result"
    }
   ],
   "source": [
    "#create soup and get title\n",
    "soup = BeautifulSoup(response.content,  'html.parser')\n",
    "title = soup.find('h1')\n",
    "title.text"
   ]
  },
  {
   "cell_type": "code",
   "execution_count": 7,
   "id": "b3a80fc3-9942-47c5-8c98-7acf24fb2541",
   "metadata": {},
   "outputs": [
    {
     "data": {
      "text/plain": [
       "'Mar 13, 2023'"
      ]
     },
     "execution_count": 7,
     "metadata": {},
     "output_type": "execute_result"
    }
   ],
   "source": [
    "#getting the published date\n",
    "pdate = soup.find('span', class_=\"published\")\n",
    "pdate.text"
   ]
  },
  {
   "cell_type": "code",
   "execution_count": 8,
   "id": "96e4ec16-d681-4837-8ea3-00065af103de",
   "metadata": {},
   "outputs": [
    {
     "data": {
      "text/plain": [
       "'\\nWomen in tech: Panelist Spotlight – Sarah Mellor\\xa0\\nCodeup is hosting a Women in Tech Panel in honor of Women’s History Month on March 29th, 2023! To further celebrate, we’d like to spotlight each of our panelists leading up to the discussion to learn a bit about their respective experiences as women in the tech industry!\\nMeet Sarah!\\nSarah Mellor currently works as the Director of People Operations. She joined Codeup four and a half years ago as an Admissions Manager. She went on to build out and lead the Marketing and Admissions team, while picking up People Ops tasks and projects here and there until moving over to lead the People Ops team two years ago. Prior to Codeup, she worked at education-focused non-profits in Washington, DC and Boulder, Colorado. She graduated from Wake Forest University.\\nWe asked Sarah how Codeup has impacted her career, and her response was “I have absolutely loved having the privilege to grow alongside Codeup. In my time here across multiple different roles and departments, I’ve seen a lot of change. The consistent things have always been the high quality of passionate and hardworking people I get to work with; the impactful mission we get to work on; and the inspiring students who trust us with their career change.”\\nDon’t forget to tune in on March 29th to sit in on an insightful conversation.\\n'"
      ]
     },
     "execution_count": 8,
     "metadata": {},
     "output_type": "execute_result"
    }
   ],
   "source": [
    "#get the article content\n",
    "artcont = soup.find('div', class_=\"entry-content\")\n",
    "artcont.text"
   ]
  },
  {
   "cell_type": "code",
   "execution_count": 9,
   "id": "cb219785-6e58-4974-9a7a-088aa43ccff0",
   "metadata": {
    "scrolled": true,
    "tags": []
   },
   "outputs": [
    {
     "data": {
      "text/plain": [
       "{'title': 'Spotlight on APIDA Voices: Celebrating Heritage and Inspiring Change ft. Arbeena Thapa',\n",
       " 'link': 'https://codeup.com/featured/apida-heritage-month/',\n",
       " 'date_published': 'May 24, 2023',\n",
       " 'content': '\\nMay is traditionally known as Asian American and Pacific Islander (AAPI) Heritage Month. This month we celebrate the history and contributions made possible by our AAPI friends, family, and community. We also examine our level of support and seek opportunities to better understand the AAPI community.\\n\\nIn an effort to address real concerns and experiences, we sat down with Arbeena Thapa, one of Codeup’s Financial Aid and Enrollment Managers.\\nArbeena identifies as Nepali American and Desi. Arbeena’s parents immigrated to Texas in 1988 for better employment and educational opportunities. Arbeena’s older sister was five when they made the move to the US. Arbeena was born later, becoming the first in her family to be a US citizen.\\nAt Codeup we take our efforts at inclusivity very seriously. After speaking with Arbeena, we were taught that the term AAPI excludes Desi-American individuals. Hence, we will now use the term Asian Pacific Islander Desi American (APIDA).\\nHere is how the rest of our conversation with Arbeena went!\\nHow do you celebrate or connect with your heritage and cultural traditions?\\n“I celebrate Nepal’s version of Christmas or Dashain. This is a nine-day celebration also known as Dussehra. I grew up as Hindu and I identify as Hindu, this is a very large part of my heritage. “\\n“Other ways I connect with my culture include sharing food! Momos are South Asian Dumplings and they’re my favorite to make and share.”\\n“On my Asian American side, I am an advocate of immigrant justice and erasure within APIDA social or political movements. I participate in events to embrace my identity such as immigrant justice advocacy because I come from a mixed-status family. I’ve always been in a community with undocumented Asian immigrants. .”\\nWhat are some of the challenges you have faced as an APIDA individual, personally or professionally?\\n“I often struggle with being gendered as compliant or a pushover. Professionally, I am often stereotyped as meek, so I’ve been overlooked for leadership roles. We are seen as perpetually foreign; people tend to other us in that way, yet put us on a pedestal for what a model minority looks like. This has made me hesitant to share my heritage in the past because these assumptions get mapped onto me. ”\\nCan you describe some common barriers of entry that APIDA individuals, specifically women may face when trying to enter or advance in the workplace?\\n“Being overlooked for leadership. In the past, I have not been viewed as a leader. People sometimes have preconceived stereotypes of Asian women not being able to be bold, or being vocal can be mistaken for being too emotional. “\\nHow do you believe microaggressions impact APIDA individuals in the workplace? Can you provide examples of such microaggressions?\\n“Erasure is big. To me, only saying ‘Merry Christmas’ isn’t inclusive to other religions. People are often resistant to saying ‘Happy Holidays,’ but saying Merry Christmas excludes, and does not appreciate my heritage. “\\n“Often microaggressions are not micro at all. They typically are not aggressive racialized violence, but the term ‘micro’ minimizes impact.”\\n“Some that I’ve heard are ‘What kind of Asian are you?’ or ‘Where are you from?’ This automatically makes me the ‘other’ and not seen as American. Even within the APIDA community, South Asians are overlooked as “Asian”.”\\nHow important is representation, specifically APIDA representation, in organizational leadership positions?\\n“I want to say that it is important to have someone who looks like you in leadership roles, and it is, but those leaders may not share the same beliefs as you. Certain privileges such as wealth, resources, or lack of interaction with lower-socioeconomic-status Asian Americans may cause a difference in community politics. I do not think the bamboo ceiling is acceptable, but the company you work for plays a big part in your politics and belief alignment.”\\nHow do you feel about code-switching, and have you ever felt it necessary to code-switch?\\n“I like sharing South Asian terms or connecting with others that have similar heritage and culture. A workplace that is welcoming to going into this sort of breakout is refreshing and makes space for us. However, having to code-switch could also mean a workplace that is not conducive and welcoming of other cultures. “\\nFinally, in your opinion, what long-term strategies can create lasting change in the workplace and ensure support, equality, and inclusion for APIDA individuals?\\n“Prior to a career in financial aid, I did a lot of research related to the post-9/11 immigration of the South Asian diaspora. This background made me heavily rely on grassroots organizing. Hire the people that want to innovate, hire the changemakers, hire the button-pushers. Reduce reliance on whiteness as change. This will become natural for the organization and become organizational change. Change comes from us on the ground.”\\nA huge thank you to Arbeena Thapa for sharing her experiences, and being vulnerable with us. Your words were inspiring and the opportunity to understand your perspective more has been valuable. We hope we can become better support for the APIDA community as we learn and grow on our journey of cultivating inclusive growth.\\n'}"
      ]
     },
     "execution_count": 9,
     "metadata": {},
     "output_type": "execute_result"
    }
   ],
   "source": [
    "#loop through the link to collect all of the articles' info\n",
    "headers = {'User-Agent': 'Codeup Data Science'}\n",
    "article_info = []\n",
    "\n",
    "for link in links_list:\n",
    "    response = get(link, headers=headers)\n",
    "    \n",
    "    soup = BeautifulSoup(response.content, 'html.parser')\n",
    "    \n",
    "    info_dict = {\"title\":soup.find(\"h1\").text,\n",
    "                \"link\": link,\n",
    "                \"date_published\":soup.find('span', class_=\"published\").text,\n",
    "                \"content\": soup.find('div', class_=\"entry-content\").text}\n",
    "    article_info.append(info_dict)\n",
    "    \n",
    "article_info[0]"
   ]
  },
  {
   "cell_type": "code",
   "execution_count": 10,
   "id": "74180668-dbcf-4b45-b07a-8c851e3a6997",
   "metadata": {},
   "outputs": [],
   "source": [
    "def get_blog_articles(article_list):\n",
    "    \"\"\"\n",
    "    \n",
    "    \"\"\"\n",
    "    file = \"blog_posts.json\"\n",
    "    \n",
    "    if os.path.exists(file):\n",
    "        with open(file) as f:\n",
    "            return json.load(f)\n",
    "        \n",
    "    \n",
    "    headers = {'User-Agent': 'Codeup Data Science'}\n",
    "    article_info = []\n",
    "\n",
    "    for article in article_list:\n",
    "        response = get(article, headers=headers)\n",
    "\n",
    "        soup = BeautifulSoup(response.content, 'html.parser')\n",
    "\n",
    "        info_dict = {\"title\":soup.find(\"h1\").text,\n",
    "                    \"link\": article,\n",
    "                    \"date_published\":soup.find('span', class_=\"published\").text,\n",
    "                    \"content\": soup.find('div', class_=\"entry-content\").text}\n",
    "        article_info.append(info_dict)\n",
    "    \n",
    "    with open(file, \"w\") as f:\n",
    "        json.dump(article_info, f)\n",
    "        \n",
    "    return article_info"
   ]
  },
  {
   "cell_type": "code",
   "execution_count": 11,
   "id": "71040333-fc0d-4214-bcda-53412b0378b6",
   "metadata": {},
   "outputs": [
    {
     "data": {
      "text/plain": [
       "['https://codeup.com/featured/apida-heritage-month/',\n",
       " 'https://codeup.com/featured/women-in-tech-panelist-spotlight/',\n",
       " 'https://codeup.com/featured/women-in-tech-rachel-robbins-mayhill/',\n",
       " 'https://codeup.com/codeup-news/women-in-tech-panelist-spotlight-sarah-mellor/',\n",
       " 'https://codeup.com/events/women-in-tech-madeleine/',\n",
       " 'https://codeup.com/codeup-news/panelist-spotlight-4/']"
      ]
     },
     "execution_count": 11,
     "metadata": {},
     "output_type": "execute_result"
    }
   ],
   "source": [
    "links_list"
   ]
  },
  {
   "cell_type": "code",
   "execution_count": 13,
   "id": "aa470321-53f2-41e7-a35f-6a5e86ca06c9",
   "metadata": {
    "scrolled": true,
    "tags": []
   },
   "outputs": [
    {
     "data": {
      "text/plain": [
       "{'title': 'Spotlight on APIDA Voices: Celebrating Heritage and Inspiring Change ft. Arbeena Thapa',\n",
       " 'link': 'https://codeup.com/featured/apida-heritage-month/',\n",
       " 'date_published': 'May 24, 2023',\n",
       " 'content': '\\nMay is traditionally known as Asian American and Pacific Islander (AAPI) Heritage Month. This month we celebrate the history and contributions made possible by our AAPI friends, family, and community. We also examine our level of support and seek opportunities to better understand the AAPI community.\\n\\nIn an effort to address real concerns and experiences, we sat down with Arbeena Thapa, one of Codeup’s Financial Aid and Enrollment Managers.\\nArbeena identifies as Nepali American and Desi. Arbeena’s parents immigrated to Texas in 1988 for better employment and educational opportunities. Arbeena’s older sister was five when they made the move to the US. Arbeena was born later, becoming the first in her family to be a US citizen.\\nAt Codeup we take our efforts at inclusivity very seriously. After speaking with Arbeena, we were taught that the term AAPI excludes Desi-American individuals. Hence, we will now use the term Asian Pacific Islander Desi American (APIDA).\\nHere is how the rest of our conversation with Arbeena went!\\nHow do you celebrate or connect with your heritage and cultural traditions?\\n“I celebrate Nepal’s version of Christmas or Dashain. This is a nine-day celebration also known as Dussehra. I grew up as Hindu and I identify as Hindu, this is a very large part of my heritage. “\\n“Other ways I connect with my culture include sharing food! Momos are South Asian Dumplings and they’re my favorite to make and share.”\\n“On my Asian American side, I am an advocate of immigrant justice and erasure within APIDA social or political movements. I participate in events to embrace my identity such as immigrant justice advocacy because I come from a mixed-status family. I’ve always been in a community with undocumented Asian immigrants. .”\\nWhat are some of the challenges you have faced as an APIDA individual, personally or professionally?\\n“I often struggle with being gendered as compliant or a pushover. Professionally, I am often stereotyped as meek, so I’ve been overlooked for leadership roles. We are seen as perpetually foreign; people tend to other us in that way, yet put us on a pedestal for what a model minority looks like. This has made me hesitant to share my heritage in the past because these assumptions get mapped onto me. ”\\nCan you describe some common barriers of entry that APIDA individuals, specifically women may face when trying to enter or advance in the workplace?\\n“Being overlooked for leadership. In the past, I have not been viewed as a leader. People sometimes have preconceived stereotypes of Asian women not being able to be bold, or being vocal can be mistaken for being too emotional. “\\nHow do you believe microaggressions impact APIDA individuals in the workplace? Can you provide examples of such microaggressions?\\n“Erasure is big. To me, only saying ‘Merry Christmas’ isn’t inclusive to other religions. People are often resistant to saying ‘Happy Holidays,’ but saying Merry Christmas excludes, and does not appreciate my heritage. “\\n“Often microaggressions are not micro at all. They typically are not aggressive racialized violence, but the term ‘micro’ minimizes impact.”\\n“Some that I’ve heard are ‘What kind of Asian are you?’ or ‘Where are you from?’ This automatically makes me the ‘other’ and not seen as American. Even within the APIDA community, South Asians are overlooked as “Asian”.”\\nHow important is representation, specifically APIDA representation, in organizational leadership positions?\\n“I want to say that it is important to have someone who looks like you in leadership roles, and it is, but those leaders may not share the same beliefs as you. Certain privileges such as wealth, resources, or lack of interaction with lower-socioeconomic-status Asian Americans may cause a difference in community politics. I do not think the bamboo ceiling is acceptable, but the company you work for plays a big part in your politics and belief alignment.”\\nHow do you feel about code-switching, and have you ever felt it necessary to code-switch?\\n“I like sharing South Asian terms or connecting with others that have similar heritage and culture. A workplace that is welcoming to going into this sort of breakout is refreshing and makes space for us. However, having to code-switch could also mean a workplace that is not conducive and welcoming of other cultures. “\\nFinally, in your opinion, what long-term strategies can create lasting change in the workplace and ensure support, equality, and inclusion for APIDA individuals?\\n“Prior to a career in financial aid, I did a lot of research related to the post-9/11 immigration of the South Asian diaspora. This background made me heavily rely on grassroots organizing. Hire the people that want to innovate, hire the changemakers, hire the button-pushers. Reduce reliance on whiteness as change. This will become natural for the organization and become organizational change. Change comes from us on the ground.”\\nA huge thank you to Arbeena Thapa for sharing her experiences, and being vulnerable with us. Your words were inspiring and the opportunity to understand your perspective more has been valuable. We hope we can become better support for the APIDA community as we learn and grow on our journey of cultivating inclusive growth.\\n'}"
      ]
     },
     "execution_count": 13,
     "metadata": {},
     "output_type": "execute_result"
    }
   ],
   "source": [
    "#check funct works\n",
    "\n",
    "article_info = get_blog_articles(links_list)\n",
    "article_info[0]"
   ]
  },
  {
   "cell_type": "markdown",
   "id": "baf3b214-ece0-4f41-8f28-004d4fe4f9b7",
   "metadata": {},
   "source": [
    "### 2. News Articles\n",
    "We will now be scraping text data from inshorts, a website that provides a brief overview of many different topics.\n",
    "\n",
    "Write a function that scrapes the news articles for the following topics:\n",
    "\n",
    "Business\n",
    "Sports\n",
    "Technology\n",
    "Entertainment\n",
    "The end product of this should be a function named get_news_articles that returns a list of dictionaries, where each dictionary has this shape:"
   ]
  },
  {
   "cell_type": "code",
   "execution_count": 14,
   "id": "b44c2271-a5b5-4c20-b42e-9a53aac8643d",
   "metadata": {},
   "outputs": [
    {
     "data": {
      "text/plain": [
       "'\\n\\n\\n\\n\\n\\n\\n\\n\\n\\n\\n\\n\\n\\n\\n\\n\\n\\n\\n\\n\\n\\n\\n\\n\\n\\n\\n\\n\\n\\n\\n\\n\\n\\n\\n\\n\\n\\n\\n\\n\\n\\n\\n\\n\\n\\nBusiness News: World and India Business News in English with Inshorts\\n\\n\\n\\n\\n\\n\\n\\n\\n\\n\\n\\n\\n\\n\\n\\n\\n\\n\\n\\n\\n\\n\\n\\n\\n\\n\\n\\n\\n\\n\\n\\n\\n\\n\\n\\n\\ntoggle menuMenu\\n\\n\\n\\n\\n\\n\\n\\n\\xa0\\n\\n\\n\\n\\n\\nEnglish\\nहिन्दी\\n\\n\\n\\nCategories\\n\\n All News \\n India \\n Business \\n Sports \\n World \\n Politics \\n Technology \\n Startup \\n Entertainment \\n Miscellaneous \\n Hatke \\n Science \\n Automobile \\n\\n\\n\\n\\n\\n\\n\\n\\n\\n\\n\\n\\n          For the best experienc'"
      ]
     },
     "execution_count": 14,
     "metadata": {},
     "output_type": "execute_result"
    }
   ],
   "source": [
    "response2 = get(\"https://inshorts.com/en/read/business\")\n",
    "soup2 = BeautifulSoup(response2.content, 'html.parser')\n",
    "soup2.text[:400]"
   ]
  },
  {
   "cell_type": "code",
   "execution_count": 15,
   "id": "8be7122b-2146-4d0c-b080-9e7f0fa632a9",
   "metadata": {
    "scrolled": true,
    "tags": []
   },
   "outputs": [
    {
     "data": {
      "text/plain": [
       "[<span itemprop=\"headline\">Sensex, Nifty end at fresh closing highs</span>,\n",
       " <span itemprop=\"headline\">TIME releases list of the world's 100 most influential companies</span>,\n",
       " <span itemprop=\"headline\">Which are the world's top 10 airlines according to passengers?</span>,\n",
       " <span itemprop=\"headline\">Grab lays off over 1,000 employees</span>,\n",
       " <span itemprop=\"headline\">Loves India, is a fan of PM: Paytm Founder on Musk after Modi meet</span>,\n",
       " <span itemprop=\"headline\">India's tallest shopping mall to come up in Noida</span>,\n",
       " <span itemprop=\"headline\">UK's net debt passes 100% of GDP for the first time since 1961</span>,\n",
       " <span itemprop=\"headline\">Sylvester daCunha, the man behind iconic Amul girl, passes away</span>,\n",
       " <span itemprop=\"headline\">McD employees, customer throw drinks at each other in Aus; company responds</span>,\n",
       " <span itemprop=\"headline\">TCS wins $1-bn deal from UK's National Employment Savings Trust</span>,\n",
       " <span itemprop=\"headline\">Yoga a global product made in India: Zerodha CEO Nithin Kamath</span>,\n",
       " <span itemprop=\"headline\">Trying to help India, US develop strong defence ties: USIBC Prez</span>,\n",
       " <span itemprop=\"headline\">Yoga helped me recover from a severe back injury: Bajaj Auto MD</span>,\n",
       " <span itemprop=\"headline\">Taking SEBI order on ZEE's Chandra, Goenka 'very seriously': Sony</span>,\n",
       " <span itemprop=\"headline\">Shriram Finance, Piramal Enterprises' shares rise after block deal</span>,\n",
       " <span itemprop=\"headline\">Why has SEBI imposed a 2-yr ban on IIFL Securities?</span>,\n",
       " <span itemprop=\"headline\">YEIDA to sell 49 industrial plots in UP, aims to receive ₹86 crore</span>,\n",
       " <span itemprop=\"headline\">Govt's rice procurement reaches 55.8 mn tonnes in 2022-23 so far</span>,\n",
       " <span itemprop=\"headline\">UBS to start Credit Suisse Asia Pacific job cuts in July: Report</span>,\n",
       " <span itemprop=\"headline\">JPMorgan cuts 20 investment banking jobs in Asia: Report</span>,\n",
       " <span itemprop=\"headline\">Akasa to buy 4 more Boeing planes, to place 3-digit order this yr</span>,\n",
       " <span itemprop=\"headline\">SpiceJet shares rise 7% after settlement deal with Nordic Aviation</span>,\n",
       " <span itemprop=\"headline\">Cyient DLM IPO to open on Jun 27, price band to be announced later</span>,\n",
       " <span itemprop=\"headline\">Lupin shares hit 52-week high after its inhaler gets USFDA nod</span>,\n",
       " <span itemprop=\"headline\">ZEE settles insider trading breach case with SEBI, pays ₹7 lakh</span>]"
      ]
     },
     "execution_count": 15,
     "metadata": {},
     "output_type": "execute_result"
    }
   ],
   "source": [
    "#access titles\n",
    "\n",
    "titles = soup2.find_all(\"span\", itemprop=\"headline\")\n",
    "titles"
   ]
  },
  {
   "cell_type": "code",
   "execution_count": 16,
   "id": "5f503d5c-a89f-45c8-bea5-a1e11e3d4924",
   "metadata": {},
   "outputs": [
    {
     "data": {
      "text/plain": [
       "<div itemprop=\"articleBody\">Benchmark indices Sensex and Nifty ended at record closing highs on Wednesday. Sensex ended 195 points higher at 63,523 while the Nifty ended at 18,856.85, up 40 points. The gains were led by stocks like HDFC, Reliance Industries and TCS. During the intraday trade, Sensex rose to its fresh record high level of 63,588. </div>"
      ]
     },
     "execution_count": 16,
     "metadata": {},
     "output_type": "execute_result"
    }
   ],
   "source": [
    "#get summaries\n",
    "\n",
    "summaries = soup2.find_all('div', itemprop=\"articleBody\")\n",
    "summaries[0]"
   ]
  },
  {
   "cell_type": "code",
   "execution_count": 17,
   "id": "566c1bb7-6ebb-4dea-a856-67a6c90f2b1a",
   "metadata": {},
   "outputs": [
    {
     "data": {
      "text/plain": [
       "(25, 25)"
      ]
     },
     "execution_count": 17,
     "metadata": {},
     "output_type": "execute_result"
    }
   ],
   "source": [
    "#make sure that we have an equal # of titles and summaries\n",
    "\n",
    "len(titles), len(summaries)"
   ]
  },
  {
   "cell_type": "code",
   "execution_count": 18,
   "id": "cfbf72f1-d98a-48bb-b60f-a0d17078a5f3",
   "metadata": {},
   "outputs": [],
   "source": [
    "def scrape_one_page(topic):\n",
    "#topic = \"business\"\n",
    "    base_url = \"https://inshorts.com/en/read/\"\n",
    "\n",
    "    response = get(base_url + topic)\n",
    "\n",
    "    soup = BeautifulSoup(response.content, 'html.parser')\n",
    "\n",
    "    titles = soup.find_all('span', itemprop=\"headline\")\n",
    "\n",
    "    summaries = soup.find_all('div', itemprop=\"articleBody\")\n",
    "\n",
    "    summary_list = []\n",
    "\n",
    "    for i in range(len(titles)):\n",
    "        temp_dict = {\"category\": topic,\n",
    "                    \"title\": titles[i].text,\n",
    "                    \"content\": summaries[i].text}\n",
    "\n",
    "        summary_list.append(temp_dict)\n",
    "\n",
    "    return summary_list"
   ]
  },
  {
   "cell_type": "code",
   "execution_count": 19,
   "id": "773e2533-9f8e-44e8-9831-6a71b4b18d82",
   "metadata": {},
   "outputs": [
    {
     "data": {
      "text/plain": [
       "{'category': 'business',\n",
       " 'title': 'Sensex, Nifty end at fresh closing highs',\n",
       " 'content': 'Benchmark indices Sensex and Nifty ended at record closing highs on Wednesday. Sensex ended 195 points higher at 63,523 while the Nifty ended at 18,856.85, up 40 points. The gains were led by stocks like HDFC, Reliance Industries and TCS. During the intraday trade, Sensex rose to its fresh record high level of 63,588. '}"
      ]
     },
     "execution_count": 19,
     "metadata": {},
     "output_type": "execute_result"
    }
   ],
   "source": [
    "business_test = scrape_one_page(\"business\")\n",
    "business_test[0]"
   ]
  },
  {
   "cell_type": "code",
   "execution_count": 20,
   "id": "ec0c0417-e276-4312-b43a-a8e050f99d7b",
   "metadata": {},
   "outputs": [],
   "source": [
    "def get_news_articles(topic_list):\n",
    "    \"\"\"\n",
    "    \n",
    "    \"\"\"\n",
    "    file = \"news_articles.json\"\n",
    "    if os.path.exists(file):\n",
    "        with open(file) as f:\n",
    "            return json.load(f)\n",
    "\n",
    "    final_list = []\n",
    "\n",
    "    for topic in topic_list:\n",
    "        final_list.extend(scrape_one_page(topic))\n",
    "    \n",
    "    with open(file, \"w\") as f:\n",
    "        json.dump(final_list, f)\n",
    "        \n",
    "    return final_list"
   ]
  },
  {
   "cell_type": "code",
   "execution_count": 21,
   "id": "377c517e-af15-4db9-9d5e-2b9819426c10",
   "metadata": {},
   "outputs": [
    {
     "data": {
      "text/plain": [
       "{'category': 'technology',\n",
       " 'title': \"Elon Musk meets PM Modi, says 'I am a fan of Modi'\",\n",
       " 'content': 'Tesla CEO and Twitter owner Elon Musk met Prime Minister Narendra Modi in New York on Tuesday. \"I am a fan of Modi...I like him quite a lot,\" Musk said. \"PM Modi really cares about India because he is pushing us to make significant investment in India, which is something that we tend to do,\" he further said.'}"
      ]
     },
     "execution_count": 21,
     "metadata": {},
     "output_type": "execute_result"
    }
   ],
   "source": [
    "#Test my function!\n",
    "topics = ['business', 'sports', 'technology', 'entertainment']\n",
    "\n",
    "final_list = get_news_articles(topics)\n",
    "final_list[50]"
   ]
  },
  {
   "cell_type": "code",
   "execution_count": 22,
   "id": "9917f5ae-e9cd-4e6d-8093-ae101793e588",
   "metadata": {},
   "outputs": [
    {
     "data": {
      "text/plain": [
       "100"
      ]
     },
     "execution_count": 22,
     "metadata": {},
     "output_type": "execute_result"
    }
   ],
   "source": [
    "len(final_list)"
   ]
  },
  {
   "cell_type": "code",
   "execution_count": 23,
   "id": "1beb08b1-8951-4968-ba9d-8ea1c6e90960",
   "metadata": {},
   "outputs": [
    {
     "data": {
      "text/html": [
       "<div>\n",
       "<style scoped>\n",
       "    .dataframe tbody tr th:only-of-type {\n",
       "        vertical-align: middle;\n",
       "    }\n",
       "\n",
       "    .dataframe tbody tr th {\n",
       "        vertical-align: top;\n",
       "    }\n",
       "\n",
       "    .dataframe thead th {\n",
       "        text-align: right;\n",
       "    }\n",
       "</style>\n",
       "<table border=\"1\" class=\"dataframe\">\n",
       "  <thead>\n",
       "    <tr style=\"text-align: right;\">\n",
       "      <th></th>\n",
       "      <th>category</th>\n",
       "      <th>title</th>\n",
       "      <th>content</th>\n",
       "    </tr>\n",
       "  </thead>\n",
       "  <tbody>\n",
       "    <tr>\n",
       "      <th>0</th>\n",
       "      <td>business</td>\n",
       "      <td>Sensex, Nifty end at fresh closing highs</td>\n",
       "      <td>Benchmark indices Sensex and Nifty ended at re...</td>\n",
       "    </tr>\n",
       "    <tr>\n",
       "      <th>1</th>\n",
       "      <td>business</td>\n",
       "      <td>TIME releases list of the world's 100 most inf...</td>\n",
       "      <td>TIME magazine has released its annual list of ...</td>\n",
       "    </tr>\n",
       "    <tr>\n",
       "      <th>2</th>\n",
       "      <td>business</td>\n",
       "      <td>Which are the world's top 10 airlines accordin...</td>\n",
       "      <td>Singapore Airlines is the world's best airline...</td>\n",
       "    </tr>\n",
       "    <tr>\n",
       "      <th>3</th>\n",
       "      <td>business</td>\n",
       "      <td>Grab lays off over 1,000 employees</td>\n",
       "      <td>Singapore-based ride-hailing and food delivery...</td>\n",
       "    </tr>\n",
       "    <tr>\n",
       "      <th>4</th>\n",
       "      <td>business</td>\n",
       "      <td>Loves India, is a fan of PM: Paytm Founder on ...</td>\n",
       "      <td>Paytm Founder Vijay Shekhar Sharma shared a vi...</td>\n",
       "    </tr>\n",
       "    <tr>\n",
       "      <th>...</th>\n",
       "      <td>...</td>\n",
       "      <td>...</td>\n",
       "      <td>...</td>\n",
       "    </tr>\n",
       "    <tr>\n",
       "      <th>95</th>\n",
       "      <td>entertainment</td>\n",
       "      <td>I lost reputation the first day I started work...</td>\n",
       "      <td>Cyrus Broacha said he \"needed new ways of earn...</td>\n",
       "    </tr>\n",
       "    <tr>\n",
       "      <th>96</th>\n",
       "      <td>entertainment</td>\n",
       "      <td>Resonated with 'Tiku Weds..' uniquely: Kangana...</td>\n",
       "      <td>When asked why she decided to produce 'Tiku We...</td>\n",
       "    </tr>\n",
       "    <tr>\n",
       "      <th>97</th>\n",
       "      <td>entertainment</td>\n",
       "      <td>Had butterflies in my stomach when I met Salma...</td>\n",
       "      <td>Actress Anupria Goenka said that when she met ...</td>\n",
       "    </tr>\n",
       "    <tr>\n",
       "      <th>98</th>\n",
       "      <td>entertainment</td>\n",
       "      <td>Thought kids at school would laugh at me, said...</td>\n",
       "      <td>Jugal Hansraj said that he had initially rejec...</td>\n",
       "    </tr>\n",
       "    <tr>\n",
       "      <th>99</th>\n",
       "      <td>entertainment</td>\n",
       "      <td>Parents said 'Even cats, dogs are on TV, when ...</td>\n",
       "      <td>Nawazuddin Siddiqui, while talking about his r...</td>\n",
       "    </tr>\n",
       "  </tbody>\n",
       "</table>\n",
       "<p>100 rows × 3 columns</p>\n",
       "</div>"
      ],
      "text/plain": [
       "         category                                              title  \\\n",
       "0        business           Sensex, Nifty end at fresh closing highs   \n",
       "1        business  TIME releases list of the world's 100 most inf...   \n",
       "2        business  Which are the world's top 10 airlines accordin...   \n",
       "3        business                 Grab lays off over 1,000 employees   \n",
       "4        business  Loves India, is a fan of PM: Paytm Founder on ...   \n",
       "..            ...                                                ...   \n",
       "95  entertainment  I lost reputation the first day I started work...   \n",
       "96  entertainment  Resonated with 'Tiku Weds..' uniquely: Kangana...   \n",
       "97  entertainment  Had butterflies in my stomach when I met Salma...   \n",
       "98  entertainment  Thought kids at school would laugh at me, said...   \n",
       "99  entertainment  Parents said 'Even cats, dogs are on TV, when ...   \n",
       "\n",
       "                                              content  \n",
       "0   Benchmark indices Sensex and Nifty ended at re...  \n",
       "1   TIME magazine has released its annual list of ...  \n",
       "2   Singapore Airlines is the world's best airline...  \n",
       "3   Singapore-based ride-hailing and food delivery...  \n",
       "4   Paytm Founder Vijay Shekhar Sharma shared a vi...  \n",
       "..                                                ...  \n",
       "95  Cyrus Broacha said he \"needed new ways of earn...  \n",
       "96  When asked why she decided to produce 'Tiku We...  \n",
       "97  Actress Anupria Goenka said that when she met ...  \n",
       "98  Jugal Hansraj said that he had initially rejec...  \n",
       "99  Nawazuddin Siddiqui, while talking about his r...  \n",
       "\n",
       "[100 rows x 3 columns]"
      ]
     },
     "execution_count": 23,
     "metadata": {},
     "output_type": "execute_result"
    }
   ],
   "source": [
    "# turn that bad boy into a df\n",
    "\n",
    "final_df = pd.DataFrame(final_list)\n",
    "final_df"
   ]
  },
  {
   "cell_type": "code",
   "execution_count": 24,
   "id": "c3e653d9-7fb0-4381-a7e3-4673d4be3e60",
   "metadata": {},
   "outputs": [],
   "source": [
    "pd.set_option(\"display.max_colwidth\", None)"
   ]
  },
  {
   "cell_type": "code",
   "execution_count": 25,
   "id": "9c6b7e82-83d0-4a8f-abad-d3afece4d3a1",
   "metadata": {},
   "outputs": [
    {
     "data": {
      "text/html": [
       "<div>\n",
       "<style scoped>\n",
       "    .dataframe tbody tr th:only-of-type {\n",
       "        vertical-align: middle;\n",
       "    }\n",
       "\n",
       "    .dataframe tbody tr th {\n",
       "        vertical-align: top;\n",
       "    }\n",
       "\n",
       "    .dataframe thead th {\n",
       "        text-align: right;\n",
       "    }\n",
       "</style>\n",
       "<table border=\"1\" class=\"dataframe\">\n",
       "  <thead>\n",
       "    <tr style=\"text-align: right;\">\n",
       "      <th></th>\n",
       "      <th>category</th>\n",
       "      <th>title</th>\n",
       "      <th>content</th>\n",
       "    </tr>\n",
       "  </thead>\n",
       "  <tbody>\n",
       "    <tr>\n",
       "      <th>0</th>\n",
       "      <td>business</td>\n",
       "      <td>Sensex, Nifty end at fresh closing highs</td>\n",
       "      <td>Benchmark indices Sensex and Nifty ended at record closing highs on Wednesday. Sensex ended 195 points higher at 63,523 while the Nifty ended at 18,856.85, up 40 points. The gains were led by stocks like HDFC, Reliance Industries and TCS. During the intraday trade, Sensex rose to its fresh record high level of 63,588.</td>\n",
       "    </tr>\n",
       "    <tr>\n",
       "      <th>1</th>\n",
       "      <td>business</td>\n",
       "      <td>TIME releases list of the world's 100 most influential companies</td>\n",
       "      <td>TIME magazine has released its annual list of the world's 100 most influential companies, which features OpenAI, SpaceX, Chess.com, Google DeepMind and Kim Kardashian's SKIMS among others. The National Payments Corporation of India (NPCI) and e-commerce platform Meesho also featured on the list. \"NPCI launched UPI...which accounted for 52% of India's digital transactions in FY22,\" TIME said.</td>\n",
       "    </tr>\n",
       "    <tr>\n",
       "      <th>2</th>\n",
       "      <td>business</td>\n",
       "      <td>Which are the world's top 10 airlines according to passengers?</td>\n",
       "      <td>Singapore Airlines is the world's best airline, according to Skytrax World Airline Awards 2023, an annual poll of flyers released at the Paris Air Show. It is followed by Qatar Airways, All Nippon Airways, Emirates, Japan Airlines, Turkish Airlines, Air France, Cathay Pacific, EVA Air, and Korean Air. Vistara, ranked 16th, is the only Indian airline in the top 20.</td>\n",
       "    </tr>\n",
       "    <tr>\n",
       "      <th>3</th>\n",
       "      <td>business</td>\n",
       "      <td>Grab lays off over 1,000 employees</td>\n",
       "      <td>Singapore-based ride-hailing and food delivery app Grab has laid off over 1,000 employees. This is Grab's largest round of layoffs since 2020, when it cut 360 jobs in response to COVID-19 pandemic challenges. \"I want to be clear that we're not doing this as a shortcut to profitability,\" Group CEO and Co-Founder Anthony Tan said in an e-mail to employees.</td>\n",
       "    </tr>\n",
       "    <tr>\n",
       "      <th>4</th>\n",
       "      <td>business</td>\n",
       "      <td>Loves India, is a fan of PM: Paytm Founder on Musk after Modi meet</td>\n",
       "      <td>Paytm Founder Vijay Shekhar Sharma shared a video of Tesla CEO Elon Musk's media interaction after meeting with PM Modi and wrote, \"Musk may be in India, next year.\" In another tweet, Sharma said, \"He [Musk] won't find population problem in India. Finds clean energy, energy storage and EVs as great potential...Loves India and is a fan of our PM.\"</td>\n",
       "    </tr>\n",
       "    <tr>\n",
       "      <th>...</th>\n",
       "      <td>...</td>\n",
       "      <td>...</td>\n",
       "      <td>...</td>\n",
       "    </tr>\n",
       "    <tr>\n",
       "      <th>95</th>\n",
       "      <td>entertainment</td>\n",
       "      <td>I lost reputation the first day I started working: Cryus Broacha</td>\n",
       "      <td>Cyrus Broacha said he \"needed new ways of earning money\", which is why he participated in 'Bigg Boss OTT 2'. When questioned if he's worried about his image, Cyrus answered, \"Do you think coming on 'Bigg Boss' would affect my reputation? I lost [it] the...day I started working. I've no fears.\" However, he mentioned that he's worried about mental health.</td>\n",
       "    </tr>\n",
       "    <tr>\n",
       "      <th>96</th>\n",
       "      <td>entertainment</td>\n",
       "      <td>Resonated with 'Tiku Weds..' uniquely: Kangana on turning producer</td>\n",
       "      <td>When asked why she decided to produce 'Tiku Weds Sheru', actress Kangana Ranaut said that she resonated with the film in a unique way after hearing the story. \"Whatever has been my reality...the struggles that I've had in the film industry...coming from a small town...and the way I've had a struggle-filled life...[I felt] it's based on that,\" she added.</td>\n",
       "    </tr>\n",
       "    <tr>\n",
       "      <th>97</th>\n",
       "      <td>entertainment</td>\n",
       "      <td>Had butterflies in my stomach when I met Salman: Anupria Goenka</td>\n",
       "      <td>Actress Anupria Goenka said that when she met Salman Khan on the sets of 'Tiger Zinda Hai', she \"had butterflies\" in her stomach. \"He's someone I had grown up watching. Hence, to do a scene with him was quite surreal,\" the actress said. \"[Salman and Hrithik Roshan] appreciate talent and they're very respectful...[they] really make you feel comfortable,\" she added.</td>\n",
       "    </tr>\n",
       "    <tr>\n",
       "      <th>98</th>\n",
       "      <td>entertainment</td>\n",
       "      <td>Thought kids at school would laugh at me, said no: Jugal on Masoom</td>\n",
       "      <td>Jugal Hansraj said that he had initially rejected Shekhar Kapur's 'Masoom'. \"When I heard the story, I thought this kid cries a lot...Everyone in my school would laugh at me...call me a crybaby...I said no,\" Hansraj shared. He added that the filmmaker insisted that he wanted Jugal in the film. \"I actually had...lot of fun,\" Hansraj said about shooting 'Masoom'.</td>\n",
       "    </tr>\n",
       "    <tr>\n",
       "      <th>99</th>\n",
       "      <td>entertainment</td>\n",
       "      <td>Parents said 'Even cats, dogs are on TV, when you'll come?': Nawaz</td>\n",
       "      <td>Nawazuddin Siddiqui, while talking about his role of a junior artiste in 'Tiku Weds Sheru', recalled his struggling days in an interview. \"My struggle went on for a long time...After five-six years, my parents once asked, 'Even cats, dogs, elephant, horses have come on screen. When will you come?',\" Nawazuddin joked. \"I'd reply, 'Wait, the time will come',\" he added.\\n</td>\n",
       "    </tr>\n",
       "  </tbody>\n",
       "</table>\n",
       "<p>100 rows × 3 columns</p>\n",
       "</div>"
      ],
      "text/plain": [
       "         category  \\\n",
       "0        business   \n",
       "1        business   \n",
       "2        business   \n",
       "3        business   \n",
       "4        business   \n",
       "..            ...   \n",
       "95  entertainment   \n",
       "96  entertainment   \n",
       "97  entertainment   \n",
       "98  entertainment   \n",
       "99  entertainment   \n",
       "\n",
       "                                                                 title  \\\n",
       "0                             Sensex, Nifty end at fresh closing highs   \n",
       "1     TIME releases list of the world's 100 most influential companies   \n",
       "2       Which are the world's top 10 airlines according to passengers?   \n",
       "3                                   Grab lays off over 1,000 employees   \n",
       "4   Loves India, is a fan of PM: Paytm Founder on Musk after Modi meet   \n",
       "..                                                                 ...   \n",
       "95    I lost reputation the first day I started working: Cryus Broacha   \n",
       "96  Resonated with 'Tiku Weds..' uniquely: Kangana on turning producer   \n",
       "97     Had butterflies in my stomach when I met Salman: Anupria Goenka   \n",
       "98  Thought kids at school would laugh at me, said no: Jugal on Masoom   \n",
       "99  Parents said 'Even cats, dogs are on TV, when you'll come?': Nawaz   \n",
       "\n",
       "                                                                                                                                                                                                                                                                                                                                                                                                       content  \n",
       "0                                                                             Benchmark indices Sensex and Nifty ended at record closing highs on Wednesday. Sensex ended 195 points higher at 63,523 while the Nifty ended at 18,856.85, up 40 points. The gains were led by stocks like HDFC, Reliance Industries and TCS. During the intraday trade, Sensex rose to its fresh record high level of 63,588.   \n",
       "1   TIME magazine has released its annual list of the world's 100 most influential companies, which features OpenAI, SpaceX, Chess.com, Google DeepMind and Kim Kardashian's SKIMS among others. The National Payments Corporation of India (NPCI) and e-commerce platform Meesho also featured on the list. \"NPCI launched UPI...which accounted for 52% of India's digital transactions in FY22,\" TIME said.  \n",
       "2                               Singapore Airlines is the world's best airline, according to Skytrax World Airline Awards 2023, an annual poll of flyers released at the Paris Air Show. It is followed by Qatar Airways, All Nippon Airways, Emirates, Japan Airlines, Turkish Airlines, Air France, Cathay Pacific, EVA Air, and Korean Air. Vistara, ranked 16th, is the only Indian airline in the top 20.  \n",
       "3                                         Singapore-based ride-hailing and food delivery app Grab has laid off over 1,000 employees. This is Grab's largest round of layoffs since 2020, when it cut 360 jobs in response to COVID-19 pandemic challenges. \"I want to be clear that we're not doing this as a shortcut to profitability,\" Group CEO and Co-Founder Anthony Tan said in an e-mail to employees.  \n",
       "4                                                 Paytm Founder Vijay Shekhar Sharma shared a video of Tesla CEO Elon Musk's media interaction after meeting with PM Modi and wrote, \"Musk may be in India, next year.\" In another tweet, Sharma said, \"He [Musk] won't find population problem in India. Finds clean energy, energy storage and EVs as great potential...Loves India and is a fan of our PM.\"  \n",
       "..                                                                                                                                                                                                                                                                                                                                                                                                         ...  \n",
       "95                                        Cyrus Broacha said he \"needed new ways of earning money\", which is why he participated in 'Bigg Boss OTT 2'. When questioned if he's worried about his image, Cyrus answered, \"Do you think coming on 'Bigg Boss' would affect my reputation? I lost [it] the...day I started working. I've no fears.\" However, he mentioned that he's worried about mental health.   \n",
       "96                                         When asked why she decided to produce 'Tiku Weds Sheru', actress Kangana Ranaut said that she resonated with the film in a unique way after hearing the story. \"Whatever has been my reality...the struggles that I've had in the film industry...coming from a small town...and the way I've had a struggle-filled life...[I felt] it's based on that,\" she added.  \n",
       "97                              Actress Anupria Goenka said that when she met Salman Khan on the sets of 'Tiger Zinda Hai', she \"had butterflies\" in her stomach. \"He's someone I had grown up watching. Hence, to do a scene with him was quite surreal,\" the actress said. \"[Salman and Hrithik Roshan] appreciate talent and they're very respectful...[they] really make you feel comfortable,\" she added.  \n",
       "98                                Jugal Hansraj said that he had initially rejected Shekhar Kapur's 'Masoom'. \"When I heard the story, I thought this kid cries a lot...Everyone in my school would laugh at me...call me a crybaby...I said no,\" Hansraj shared. He added that the filmmaker insisted that he wanted Jugal in the film. \"I actually had...lot of fun,\" Hansraj said about shooting 'Masoom'.   \n",
       "99                         Nawazuddin Siddiqui, while talking about his role of a junior artiste in 'Tiku Weds Sheru', recalled his struggling days in an interview. \"My struggle went on for a long time...After five-six years, my parents once asked, 'Even cats, dogs, elephant, horses have come on screen. When will you come?',\" Nawazuddin joked. \"I'd reply, 'Wait, the time will come',\" he added.\\n  \n",
       "\n",
       "[100 rows x 3 columns]"
      ]
     },
     "execution_count": 25,
     "metadata": {},
     "output_type": "execute_result"
    }
   ],
   "source": [
    "final_df"
   ]
  },
  {
   "cell_type": "code",
   "execution_count": null,
   "id": "efdf269c-a2bd-4447-b1d9-f8c7b9864342",
   "metadata": {},
   "outputs": [],
   "source": []
  }
 ],
 "metadata": {
  "kernelspec": {
   "display_name": "Python 3 (ipykernel)",
   "language": "python",
   "name": "python3"
  },
  "language_info": {
   "codemirror_mode": {
    "name": "ipython",
    "version": 3
   },
   "file_extension": ".py",
   "mimetype": "text/x-python",
   "name": "python",
   "nbconvert_exporter": "python",
   "pygments_lexer": "ipython3",
   "version": "3.9.13"
  }
 },
 "nbformat": 4,
 "nbformat_minor": 5
}
